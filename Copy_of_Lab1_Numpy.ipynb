{
  "nbformat": 4,
  "nbformat_minor": 0,
  "metadata": {
    "colab": {
      "provenance": [],
      "include_colab_link": true
    },
    "kernelspec": {
      "name": "python3",
      "display_name": "Python 3"
    },
    "language_info": {
      "name": "python"
    }
  },
  "cells": [
    {
      "cell_type": "markdown",
      "metadata": {
        "id": "view-in-github",
        "colab_type": "text"
      },
      "source": [
        "<a href=\"https://colab.research.google.com/github/PC098/psdv/blob/main/Copy_of_Lab1_Numpy.ipynb\" target=\"_parent\"><img src=\"https://colab.research.google.com/assets/colab-badge.svg\" alt=\"Open In Colab\"/></a>"
      ]
    },
    {
      "cell_type": "code",
      "source": [
        "import numpy as np\n",
        "import matplotlib.pyplot as plt\n",
        "%matplotlib inline\n",
        "%config InlineBackend.figure_format = 'retina'"
      ],
      "metadata": {
        "id": "IZLwNgdS-ndV"
      },
      "execution_count": null,
      "outputs": []
    },
    {
      "cell_type": "markdown",
      "source": [
        "\n",
        "# **Creating Arrays**\n",
        "\n",
        "#### 1. Create a 1D array with 20 random integers between 1 and 100.\n",
        "**Hint:** Use the `np.random.randint()` function, specifying the range and size.\n",
        "#### 2. Create a 5x5 matrix where all the border elements are 1, and the inside elements are 0.\n",
        "#### 3. Create a diagonal matrix with values `[1, 2, 3, 4]` on the diagonal.\n",
        "#### 4. Create an array of shape (3, 3) where each row contains numbers from 1 to 3.\n",
        "**Hint:** Use `np.tile()` to repeat arrays along rows or columns.\n",
        "#### 5. Create a 1D array with alternating 0s and 1s of length 10.\n",
        "#### 6. Create a 3x3 matrix with random integers between 10 and 20, and set the datatype to `int32`."
      ],
      "metadata": {
        "id": "AnUxKd3FsdSJ"
      }
    },
    {
      "cell_type": "code",
      "source": [
        "# Q.1\n",
        "a= np.random.randint(2,100,20)\n",
        "print(a)\n",
        "print(a.shape)"
      ],
      "metadata": {
        "colab": {
          "base_uri": "https://localhost:8080/"
        },
        "id": "6JHFXoyB7tTd",
        "outputId": "df1cd263-3dd9-4d1d-de77-1ecfd981dfa2"
      },
      "execution_count": null,
      "outputs": [
        {
          "output_type": "stream",
          "name": "stdout",
          "text": [
            "[84 78 70 25 55 96 44 21 70 28 20 59 83 54 51 49 96 57 89 14]\n",
            "(20,)\n"
          ]
        }
      ]
    },
    {
      "cell_type": "code",
      "source": [
        "# Q.2\n",
        "mat = np.zeros((5,5) , dtype=int)\n",
        "mat[0,:] =1\n",
        "mat[4,:] =1\n",
        "mat[:,0] =1\n",
        "mat[:,4] =1\n",
        "print(mat)"
      ],
      "metadata": {
        "colab": {
          "base_uri": "https://localhost:8080/"
        },
        "id": "SR4hz8flb2Dk",
        "outputId": "f5daf260-1a7b-43a1-e43b-322a24382839"
      },
      "execution_count": null,
      "outputs": [
        {
          "output_type": "stream",
          "name": "stdout",
          "text": [
            "[[1 1 1 1 1]\n",
            " [1 0 0 0 1]\n",
            " [1 0 0 0 1]\n",
            " [1 0 0 0 1]\n",
            " [1 1 1 1 1]]\n"
          ]
        }
      ]
    },
    {
      "cell_type": "code",
      "source": [
        "# Q.3\n",
        "mat1 = np.diag([1,2,3,4])\n",
        "print(mat1)"
      ],
      "metadata": {
        "colab": {
          "base_uri": "https://localhost:8080/"
        },
        "id": "vbtSEehoeSQd",
        "outputId": "92d9ac4e-2e97-407f-80d5-56a8b8942cac"
      },
      "execution_count": null,
      "outputs": [
        {
          "output_type": "stream",
          "name": "stdout",
          "text": [
            "[[1 0 0 0]\n",
            " [0 2 0 0]\n",
            " [0 0 3 0]\n",
            " [0 0 0 4]]\n"
          ]
        }
      ]
    },
    {
      "cell_type": "code",
      "source": [
        "# Q.4\n",
        "a=  np.array([1,2,3])\n",
        "print(np.tile(a,(3,1)))"
      ],
      "metadata": {
        "colab": {
          "base_uri": "https://localhost:8080/"
        },
        "id": "1DRnE4V5hXwF",
        "outputId": "1217cfa9-4702-406e-e64b-ed6e99f5d9ac"
      },
      "execution_count": null,
      "outputs": [
        {
          "output_type": "stream",
          "name": "stdout",
          "text": [
            "[[1 2 3]\n",
            " [1 2 3]\n",
            " [1 2 3]]\n"
          ]
        }
      ]
    },
    {
      "cell_type": "code",
      "source": [
        "# Q.5\n",
        "a= np.tile([0,1],5,)\n",
        "print(a)"
      ],
      "metadata": {
        "colab": {
          "base_uri": "https://localhost:8080/"
        },
        "id": "SlEV5iKFjqZS",
        "outputId": "511c9f6f-31b0-4599-bbc2-ff1eee433e0a"
      },
      "execution_count": null,
      "outputs": [
        {
          "output_type": "stream",
          "name": "stdout",
          "text": [
            "[0 1 0 1 0 1 0 1 0 1]\n"
          ]
        }
      ]
    },
    {
      "cell_type": "code",
      "source": [
        "# Q.6\n",
        "a= np.random.randint(10,21,(3,3),dtype=np.int32)\n",
        "print(a)\n",
        "print(a.shape)\n",
        "print(np.sum(a))"
      ],
      "metadata": {
        "colab": {
          "base_uri": "https://localhost:8080/"
        },
        "id": "SF_v26FR732j",
        "outputId": "e4344392-ce27-49c1-8b55-23e0e8794697"
      },
      "execution_count": null,
      "outputs": [
        {
          "output_type": "stream",
          "name": "stdout",
          "text": [
            "[[18 18 15]\n",
            " [13 14 12]\n",
            " [11 12 17]]\n",
            "(3, 3)\n",
            "130\n"
          ]
        }
      ]
    },
    {
      "cell_type": "markdown",
      "source": [
        "# **Array Attributes**\n",
        "\n",
        "####1. Create a NumPy array of shape (4, 5) filled with random integers between 1 and 10. Now use an appropriate attribute of an array and find the following:\n",
        "\n",
        "  1. shape of the array\n",
        "  2. size of the array\n",
        "  3. number of dimensions\n",
        "  4. data type\n",
        "\n",
        "####2. Write a Python function that takes an array as input and returns the number of dimensions (ndim) of the array.\n",
        "Test the function with the following arrays:\n",
        "\n",
        "  1. A 1D array with 5 elements.\n",
        "  2. A 2D array of size (3x4).\n",
        "  3. A 3D array of size (2x3x4).\n",
        "\n",
        "\n",
        "####3. Create a NumPy array with the elements between 1 to 100 and use the dtype attribute to find out the data type of the elements. Modify the program to create arrays with elements of type float and string, and observe the changes in dtype.\n",
        "\n",
        "####4. Write a Python function that:\n",
        "  1. Creates a 6×3 array of integers using NumPy.\n",
        "  2. Prints the shape of the array using the shape attribute.\n",
        "  3. Reshapes the array to 3×6 and prints the new shape.\n",
        "\n",
        "\n",
        "\n",
        "####5. Write a program to:\n",
        "  1. Create an array of any size with all elements being 0 and use the appropriate attribute to print the size (in bytes) of each element in the array.\n",
        "  2. Create an array of any size with elements between 1 to 10 and print the size.\n",
        "  3. Create another array with floating-point numbers of any size and observe how the size changes.\n",
        "\n"
      ],
      "metadata": {
        "id": "DkYcM2eukdxR"
      }
    },
    {
      "cell_type": "code",
      "source": [
        "# Q.1\n",
        "print((np.random.randint(1,11,(4,5))))\n",
        "print((np.random.randint(1,11,(4,5))).shape)\n",
        "print((np.random.randint(1,11,(4,5))).size)\n",
        "print((np.random.randint(1,11,(4,5))).ndim)\n",
        "print((np.random.randint(1,11,(4,5))).dtype)"
      ],
      "metadata": {
        "colab": {
          "base_uri": "https://localhost:8080/"
        },
        "id": "iSq4WPaz_H0j",
        "outputId": "3dfceec9-2dc7-45ec-fe7e-bafed136034d"
      },
      "execution_count": null,
      "outputs": [
        {
          "output_type": "stream",
          "name": "stdout",
          "text": [
            "[[ 5  1  8  6  1]\n",
            " [10  8  3  6  8]\n",
            " [10  4  2  6  3]\n",
            " [ 4  3  3 10  6]]\n",
            "(4, 5)\n",
            "20\n",
            "2\n",
            "int64\n"
          ]
        }
      ]
    },
    {
      "cell_type": "code",
      "source": [
        "# Q.2\n",
        "def dimension(arr):\n",
        "    return arr.ndim\n",
        "m = np.random.randint(1,11,(3,4,7))\n",
        "print(dimension(m))"
      ],
      "metadata": {
        "colab": {
          "base_uri": "https://localhost:8080/"
        },
        "id": "sq9UNorAAv-g",
        "outputId": "ab66185f-a983-4fa3-ae99-4d6334b5d54e"
      },
      "execution_count": null,
      "outputs": [
        {
          "output_type": "stream",
          "name": "stdout",
          "text": [
            "3\n"
          ]
        }
      ]
    },
    {
      "cell_type": "code",
      "source": [
        "# Q.3\n",
        "arr1 = np.arange(2, 100)\n",
        "print(arr1)\n",
        "print(arr1.dtype)\n",
        "arr2 = np.arange(2, 100, dtype=float)\n",
        "print(arr2)\n",
        "print(arr2.dtype)\n",
        "arr3 = arr1.astype(str)\n",
        "print(arr3)\n",
        "print(arr3.dtype)\n"
      ],
      "metadata": {
        "colab": {
          "base_uri": "https://localhost:8080/"
        },
        "id": "uoKqKGTld-b3",
        "outputId": "493408f0-8b56-4a13-f654-9b7f5e37f90c"
      },
      "execution_count": null,
      "outputs": [
        {
          "output_type": "stream",
          "name": "stdout",
          "text": [
            "[ 2  3  4  5  6  7  8  9 10 11 12 13 14 15 16 17 18 19 20 21 22 23 24 25\n",
            " 26 27 28 29 30 31 32 33 34 35 36 37 38 39 40 41 42 43 44 45 46 47 48 49\n",
            " 50 51 52 53 54 55 56 57 58 59 60 61 62 63 64 65 66 67 68 69 70 71 72 73\n",
            " 74 75 76 77 78 79 80 81 82 83 84 85 86 87 88 89 90 91 92 93 94 95 96 97\n",
            " 98 99]\n",
            "int64\n",
            "[ 2.  3.  4.  5.  6.  7.  8.  9. 10. 11. 12. 13. 14. 15. 16. 17. 18. 19.\n",
            " 20. 21. 22. 23. 24. 25. 26. 27. 28. 29. 30. 31. 32. 33. 34. 35. 36. 37.\n",
            " 38. 39. 40. 41. 42. 43. 44. 45. 46. 47. 48. 49. 50. 51. 52. 53. 54. 55.\n",
            " 56. 57. 58. 59. 60. 61. 62. 63. 64. 65. 66. 67. 68. 69. 70. 71. 72. 73.\n",
            " 74. 75. 76. 77. 78. 79. 80. 81. 82. 83. 84. 85. 86. 87. 88. 89. 90. 91.\n",
            " 92. 93. 94. 95. 96. 97. 98. 99.]\n",
            "float64\n",
            "['2' '3' '4' '5' '6' '7' '8' '9' '10' '11' '12' '13' '14' '15' '16' '17'\n",
            " '18' '19' '20' '21' '22' '23' '24' '25' '26' '27' '28' '29' '30' '31'\n",
            " '32' '33' '34' '35' '36' '37' '38' '39' '40' '41' '42' '43' '44' '45'\n",
            " '46' '47' '48' '49' '50' '51' '52' '53' '54' '55' '56' '57' '58' '59'\n",
            " '60' '61' '62' '63' '64' '65' '66' '67' '68' '69' '70' '71' '72' '73'\n",
            " '74' '75' '76' '77' '78' '79' '80' '81' '82' '83' '84' '85' '86' '87'\n",
            " '88' '89' '90' '91' '92' '93' '94' '95' '96' '97' '98' '99']\n",
            "<U21\n"
          ]
        }
      ]
    },
    {
      "cell_type": "code",
      "source": [
        "# Q.4\n",
        "arr = np.arange(1, 19).reshape(6, 3)\n",
        "print(arr.shape)\n",
        "brr = arr.reshape(3, 6)\n",
        "print(brr.shape)"
      ],
      "metadata": {
        "colab": {
          "base_uri": "https://localhost:8080/"
        },
        "id": "KmZFiurBXEwo",
        "outputId": "c9211b49-c763-4b71-d841-c0ccd61e01ed"
      },
      "execution_count": null,
      "outputs": [
        {
          "output_type": "stream",
          "name": "stdout",
          "text": [
            "(6, 3)\n",
            "(3, 6)\n"
          ]
        }
      ]
    },
    {
      "cell_type": "code",
      "source": [
        "# Q.5\n",
        "arr1 = np.zeros((3, 3), dtype=int)\n",
        "print(arr1.itemsize, \"bytes\")\n",
        "arr2 = np.arange(2, 13)\n",
        "print(arr2.itemsize, \"bytes\")\n",
        "arr3 = np.array([1.89, 2.45, 3.67, 4.91], dtype=float)\n",
        "print(arr3.itemsize, \"bytes\") # no change in size"
      ],
      "metadata": {
        "colab": {
          "base_uri": "https://localhost:8080/"
        },
        "id": "K7yMoYk2Y2WK",
        "outputId": "1a254292-10d4-4560-97e8-f81100a9a2db"
      },
      "execution_count": null,
      "outputs": [
        {
          "output_type": "stream",
          "name": "stdout",
          "text": [
            "8 bytes\n",
            "8 bytes\n",
            "8 bytes\n"
          ]
        }
      ]
    },
    {
      "cell_type": "markdown",
      "source": [
        "# **Sorting and Partioning**\n",
        "\n",
        "####1. Given an array arr, sort the array in ascending order without modifying the original array. Print both the original and sorted arrays.(use np.sort())\n",
        "\n",
        "####2. You have arr = np.array([50, 30, 40, 20]) and names = np.array([\"A\", \"B\", \"C\", \"D\"]).\n",
        "Sort the arr values in ascending order and rearrange the names array accordingly.(use np.argsort() to get sorted indices and reorder names)\n",
        "\n",
        "####3. Write code to find the k smallest elements from the array arr. Print these elements in ascending order.(use np.partition())\n",
        "\n",
        "####4. Partition the array arr such that all elements smaller than a particular number(user input) appear before those greater than or equal to that number. Print the partitioned array.(use np.partition() to find the pivot value's index)\n",
        "\n",
        "####5. Sort each row of a 2D array arr in ascending order.(use np.sort() with axis parameter)\n",
        "\n",
        "####6. Print k largest elements of an array arr in descending order.(use np.partition() to find top k elements)\n",
        "\n",
        "####7. Given an array arr(containing possible negative values), sort the array in ascending order based on the absolute values of the elements. Print the sorted array.(use np.argsort() with a custom key for absolute values)\n",
        "\n",
        "####8. Given an array arr, sort only the elements greater than k in ascending order, keeping the other elements in their original positions.(create a mask to find elements greater than k, use np.sort() to sort them then reassign the sorted values back to their original indices in the array)"
      ],
      "metadata": {
        "id": "ItnxYBtVzYiL"
      }
    },
    {
      "cell_type": "code",
      "source": [
        "# Q.1\n",
        "elements = input().split()\n",
        "array = np.array(elements, dtype=int)\n",
        "print(array)\n",
        "print(np.sort(array))\n"
      ],
      "metadata": {
        "id": "gxyauqN1CtqU",
        "colab": {
          "base_uri": "https://localhost:8080/"
        },
        "outputId": "11016b97-ead9-440f-cf6e-b6ec9fcccebe"
      },
      "execution_count": null,
      "outputs": [
        {
          "output_type": "stream",
          "name": "stdout",
          "text": [
            "4 5 6\n",
            "[4 5 6]\n",
            "[4 5 6]\n"
          ]
        }
      ]
    },
    {
      "cell_type": "code",
      "source": [
        "# Q.2\n",
        "arr = np.array([50, 30, 40, 20])\n",
        "a= np.argsort(arr)\n",
        "print(a)\n",
        "names = np.array([\"A\", \"B\", \"C\", \"D\"])\n",
        "b= names[a]\n",
        "print(b)\n"
      ],
      "metadata": {
        "colab": {
          "base_uri": "https://localhost:8080/"
        },
        "id": "499PAL2kCsW4",
        "outputId": "a51d3b5c-ab74-4011-f85a-f130004dc905"
      },
      "execution_count": null,
      "outputs": [
        {
          "output_type": "stream",
          "name": "stdout",
          "text": [
            "[3 1 2 0]\n",
            "['D' 'B' 'C' 'A']\n"
          ]
        }
      ]
    },
    {
      "cell_type": "code",
      "source": [
        "# Q.3\n",
        "arr = np.array([7, 2, 5, 3, 1, 8, 6, 4])\n",
        "k = 3\n",
        "k_smallest = np.partition(arr, k)[:k]\n",
        "k_smallest_sorted = np.sort(k_smallest)\n",
        "print(k_smallest_sorted)"
      ],
      "metadata": {
        "id": "aPcuzV0VfQp0"
      },
      "execution_count": null,
      "outputs": []
    },
    {
      "cell_type": "code",
      "source": [
        "# Q.4\n",
        "def partition(arr, pivot_value):\n",
        "    brr = np.partition(arr, np.searchsorted(arr, pivot_value))\n",
        "    index = np.searchsorted(brr,value)\n",
        "    print(brr)\n",
        "    print(index)\n",
        "arr = np.arange(2, 100)\n",
        "value = int(input())\n",
        "partition(arr,value)"
      ],
      "metadata": {
        "id": "bdXu1Tg-hd9w"
      },
      "execution_count": null,
      "outputs": []
    },
    {
      "cell_type": "code",
      "source": [
        "# Q.5\n",
        "arr = np.array([[12, 5, 8],\n",
        "                [1, 15, 10],\n",
        "                [7, 3, 2]])\n",
        "sorted = np.sort(arr, axis=1)\n",
        "print(sorted)"
      ],
      "metadata": {
        "id": "EDT8OAMvfCjD",
        "colab": {
          "base_uri": "https://localhost:8080/"
        },
        "outputId": "707bee48-0e6c-459c-c930-a69c64f0fd17"
      },
      "execution_count": null,
      "outputs": [
        {
          "output_type": "stream",
          "name": "stdout",
          "text": [
            "[[ 5  8 12]\n",
            " [ 1 10 15]\n",
            " [ 2  3  7]]\n"
          ]
        }
      ]
    },
    {
      "cell_type": "code",
      "source": [
        "# Q.6\n",
        "arr = np.array([12, 3, 5, 7, 19, 2, 8, 11])\n",
        "k = 3\n",
        "k_largest = np.partition(arr, -k)[-k:]\n",
        "print( np.sort(k_largest)[::-1])"
      ],
      "metadata": {
        "colab": {
          "base_uri": "https://localhost:8080/"
        },
        "id": "13krNkrAfEa5",
        "outputId": "b83a5c44-6cc2-4688-961d-e26da35c7342"
      },
      "execution_count": null,
      "outputs": [
        {
          "output_type": "stream",
          "name": "stdout",
          "text": [
            "[19 12 11]\n"
          ]
        }
      ]
    },
    {
      "cell_type": "code",
      "source": [
        "# Q.7\n",
        "arr = np.array([-10, 2, -5, 7, -3])\n",
        "sorted_indices = np.argsort(np.abs(arr))\n",
        "sorted_arr = arr[sorted_indices]\n",
        "print(sorted_arr)"
      ],
      "metadata": {
        "colab": {
          "base_uri": "https://localhost:8080/"
        },
        "id": "bstLTZHngX6X",
        "outputId": "0af659c4-fea9-41f5-ef9e-7c746113f72f"
      },
      "execution_count": null,
      "outputs": [
        {
          "output_type": "stream",
          "name": "stdout",
          "text": [
            "[  2  -3  -5   7 -10]\n"
          ]
        }
      ]
    },
    {
      "cell_type": "code",
      "source": [
        "# Q.8\n",
        "arr = np.array([7, 2, 5, 3, 1, 8, 6, 4])\n",
        "k = 4\n",
        "mask = arr > k\n",
        "sorted_greater = np.sort(arr[mask])\n",
        "arr[mask] = sorted_greater\n",
        "print(arr)"
      ],
      "metadata": {
        "id": "OzcpP0tehCxi"
      },
      "execution_count": null,
      "outputs": []
    },
    {
      "cell_type": "markdown",
      "source": [
        "# **Indexing and slicing**"
      ],
      "metadata": {
        "id": "gPghNT4V8CFw"
      }
    },
    {
      "cell_type": "markdown",
      "source": [
        "#### 1. 2D Array Indexing\n",
        "Consider the following 2D array:\n",
        "`arr_2d = np.array([[5, 10, 15], [20, 25, 30], [35, 40, 45]])`\n",
        "- Access the element at row index 1 and column index 2.\n",
        "- Extract the first row.\n",
        "- Extract the last column."
      ],
      "metadata": {
        "id": "O9CJs-Un8X3_"
      }
    },
    {
      "cell_type": "code",
      "source": [
        "arr_2d = np.array([[5, 10, 15], [20, 25, 30], [35, 40, 45]])\n",
        "element=arr_2d[1,2]\n",
        "first_row=arr_2d[0]\n",
        "last_column=arr_2d[:,-1]\n",
        "print(element)\n",
        "print(first_row)\n",
        "print(last_column)"
      ],
      "metadata": {
        "colab": {
          "base_uri": "https://localhost:8080/"
        },
        "id": "4SLl-uec6PNp",
        "outputId": "3b968474-7f6f-49b1-9bfc-31bcf9800e24"
      },
      "execution_count": null,
      "outputs": [
        {
          "output_type": "stream",
          "name": "stdout",
          "text": [
            "30\n",
            "[ 5 10 15]\n",
            "[15 30 45]\n"
          ]
        }
      ]
    },
    {
      "cell_type": "markdown",
      "source": [
        "#### 2. Boolean Indexing\n",
        "Given an array `arr = np.array([2, 5, 8, 11, 14, 17, 20])`, use boolean indexing to:\n",
        "- Extract all values greater than 10.\n",
        "- Replace all values greater than 15 with -1."
      ],
      "metadata": {
        "id": "aXGnlXAo8ai8"
      }
    },
    {
      "cell_type": "code",
      "source": [
        "arr = np.array([2, 5, 8, 11, 14, 17, 20])\n",
        "brr = arr>10\n",
        "print(arr[brr])\n",
        "arr[arr>15]=-1\n",
        "print(arr)"
      ],
      "metadata": {
        "id": "HltS-isQ8yd5",
        "outputId": "5c5d721e-a6cc-4c40-e49e-dfa18d4084ba",
        "colab": {
          "base_uri": "https://localhost:8080/"
        }
      },
      "execution_count": null,
      "outputs": [
        {
          "output_type": "stream",
          "name": "stdout",
          "text": [
            "[11 14 17 20]\n",
            "[ 2  5  8 11 14 -1 -1]\n"
          ]
        }
      ]
    },
    {
      "cell_type": "markdown",
      "source": [
        "#### 3. Fancy Indexing\n",
        "Using the 2D array `arr_2d = np.array([[5, 10, 15], [20, 25, 30], [35, 40, 45]])`, write code to:\n",
        "\n",
        "- Select the elements at positions (0,2), (1,1), and (2,0).\n",
        "- Use fancy indexing to create a submatrix with rows 0 and 2, and columns 1 and 2.\n",
        "\n",
        "- **Hint:**\n",
        " - For 1st part, use arrays of row and column indices\n",
        " - For 2nd part, you can create a submatrix using fancy indexing by using np.newaxis to match the dimensions\n"
      ],
      "metadata": {
        "id": "cSMQOL_78dGJ"
      }
    },
    {
      "cell_type": "code",
      "source": [
        "arr_2d = np.array([[5, 10, 15], [20, 25, 30], [35, 40, 45]])\n",
        "print(arr_2d[0,2])\n",
        "print(arr_2d[1,1])\n",
        "print(arr_2d[2,0])\n",
        "#fancy indexing\n",
        "submatrix = arr_2d[[0, 2], :][:, [1, 2]]\n",
        "print(submatrix)"
      ],
      "metadata": {
        "colab": {
          "base_uri": "https://localhost:8080/"
        },
        "id": "5oAqOZ-m5DGq",
        "outputId": "d1c3159d-6fc9-4f37-ba4e-547936aabf0a"
      },
      "execution_count": null,
      "outputs": [
        {
          "output_type": "stream",
          "name": "stdout",
          "text": [
            "15\n",
            "25\n",
            "35\n",
            "[[10 15]\n",
            " [40 45]]\n"
          ]
        }
      ]
    },
    {
      "cell_type": "markdown",
      "source": [
        "#### 4. Slicing 1D array\n",
        "Given the array `arr = np.array([1, 3, 5, 7, 9, 11, 13, 15])`, write code to:\n",
        "\n",
        "- Extract the first 4 elements.\n",
        "- Extract every second element from the entire array.\n",
        "- Extract elements from index 2 to the end, stepping by 2."
      ],
      "metadata": {
        "id": "neMikU6N8fdJ"
      }
    },
    {
      "cell_type": "code",
      "source": [
        "arr = np.array([1, 3, 5, 7, 9, 11, 13, 15])\n",
        "print(arr[:4])\n",
        "print(arr[::2])\n",
        "print(arr[2::2])"
      ],
      "metadata": {
        "colab": {
          "base_uri": "https://localhost:8080/"
        },
        "id": "VFWXAWwjEerk",
        "outputId": "6c6a21cd-c65d-405c-8584-d7f755e30ed6"
      },
      "execution_count": null,
      "outputs": [
        {
          "output_type": "stream",
          "name": "stdout",
          "text": [
            "[1 3 5 7]\n",
            "[ 1  5  9 13]\n",
            "[ 5  9 13]\n"
          ]
        }
      ]
    },
    {
      "cell_type": "markdown",
      "source": [
        "#### 5. Slicing a 2D Array\n",
        "Given the following 2D array:\n",
        "`arr_2d = np.array([[10, 20, 30, 40], [50, 60, 70, 80], [90, 100, 110, 120]])`\n",
        "- Slice and print the last two columns of 1st row.\n",
        "- Slice and print the last row, reversed."
      ],
      "metadata": {
        "id": "QnTy4Zj98h4I"
      }
    },
    {
      "cell_type": "code",
      "source": [
        "arr_2d = np.array([[10, 20, 30, 40], [50, 60, 70, 80], [90, 100, 110, 120]])\n",
        "print(arr_2d[0,-2:])\n",
        "print(arr_2d[-1,::-1])"
      ],
      "metadata": {
        "id": "-xnXaGtnDKkg",
        "outputId": "ae6b02c7-f80c-4ab7-caaf-477fa584685c",
        "colab": {
          "base_uri": "https://localhost:8080/"
        }
      },
      "execution_count": null,
      "outputs": [
        {
          "output_type": "stream",
          "name": "stdout",
          "text": [
            "[30 40]\n",
            "[120 110 100  90]\n"
          ]
        }
      ]
    },
    {
      "cell_type": "markdown",
      "source": [
        "#### 6. Handling Out-of-Range Indices in Slicing vs. Indexing\n",
        "Given the array:\n",
        "`arr = np.array([10, 20, 30, 40, 50])`\n",
        "\n",
        "\n",
        "- What will be the output of the following slicing operations? Explain why they work, even though some indices are out of range.\n",
        " - print(arr[2:10])  \n",
        " - print(arr[-10:3])    \n",
        "\n",
        "- Compare the behavior of slicing to accessing a single element with an out-of-range index (e.g., arr[10]). Why does slicing not raise an error in these cases, but indexing does?"
      ],
      "metadata": {
        "id": "DWgodK9V8kVv"
      }
    },
    {
      "cell_type": "code",
      "source": [
        "# Q.6\n",
        "arr = np.array([10, 20, 30, 40, 50])\n",
        "print(arr[2:10]) #in slicing arr[starting,ending], here starting index is 2(2nd index) and corresponding element is 30 and ending index is 50(last index) so output is [30,40,50]\n",
        "print(arr[-10:3]) #arr[starting,ending], here starting index is 10(first index) and corresponding element is 30 and ending index is 50(2nd index)) so output is [30,40,5\n",
        "#in slicing if index is out of range, we take starting or ending index as per our requirement to adjust the indices.\n",
        "\n",
        "print(arr[10]) #it is indexing not slicing, here index is out of range so it will show error; here is no start or stop if index is out of range.\n",
        "print(arr)"
      ],
      "metadata": {
        "colab": {
          "base_uri": "https://localhost:8080/",
          "height": 228
        },
        "id": "Yy-_KnoW-HDd",
        "outputId": "be97169a-a11b-4ca5-aa9f-3eeab22c73a1"
      },
      "execution_count": null,
      "outputs": [
        {
          "output_type": "stream",
          "name": "stdout",
          "text": [
            "[30 40 50]\n",
            "[10 20 30]\n"
          ]
        },
        {
          "output_type": "error",
          "ename": "IndexError",
          "evalue": "index 10 is out of bounds for axis 0 with size 5",
          "traceback": [
            "\u001b[0;31m---------------------------------------------------------------------------\u001b[0m",
            "\u001b[0;31mIndexError\u001b[0m                                Traceback (most recent call last)",
            "\u001b[0;32m<ipython-input-125-8e099b6f1df1>\u001b[0m in \u001b[0;36m<cell line: 7>\u001b[0;34m()\u001b[0m\n\u001b[1;32m      5\u001b[0m \u001b[0;31m#in slicing if index is out of range, we take starting or ending index as per our requirement to adjust the indices.\u001b[0m\u001b[0;34m\u001b[0m\u001b[0;34m\u001b[0m\u001b[0m\n\u001b[1;32m      6\u001b[0m \u001b[0;34m\u001b[0m\u001b[0m\n\u001b[0;32m----> 7\u001b[0;31m \u001b[0mprint\u001b[0m\u001b[0;34m(\u001b[0m\u001b[0marr\u001b[0m\u001b[0;34m[\u001b[0m\u001b[0;36m10\u001b[0m\u001b[0;34m]\u001b[0m\u001b[0;34m)\u001b[0m \u001b[0;31m#it is indexing not slicing, here index is out of range so it will show error; here is no start or stop if index is out of range.\u001b[0m\u001b[0;34m\u001b[0m\u001b[0;34m\u001b[0m\u001b[0m\n\u001b[0m\u001b[1;32m      8\u001b[0m \u001b[0mprint\u001b[0m\u001b[0;34m(\u001b[0m\u001b[0marr\u001b[0m\u001b[0;34m)\u001b[0m\u001b[0;34m\u001b[0m\u001b[0;34m\u001b[0m\u001b[0m\n",
            "\u001b[0;31mIndexError\u001b[0m: index 10 is out of bounds for axis 0 with size 5"
          ]
        }
      ]
    },
    {
      "cell_type": "markdown",
      "source": [
        "#### 7.  Work with an Audio File\n",
        "\n",
        "Download the audio file from the following link: Simple Logo - Pixabay. Load the audio file using pydub and complete the following tasks:\n",
        "\n",
        "- Extract the first second of the audio and plot its waveform.\n",
        "   - Hint: Use the frame rate to calculate how many samples are in 1 second, and use slicing to extract this part.\n",
        "\n",
        "-   Extract the last second of the audio and plot its waveform.\n",
        "  \n",
        "\n",
        "-  Combine the samples from the first second and the last second into a new array and plot the combined waveform.\n",
        " - Hint: Use NumPy’s np.concatenate() function to merge the two slices."
      ],
      "metadata": {
        "id": "xDOOiJe7r_Vx"
      }
    },
    {
      "cell_type": "markdown",
      "source": [
        "# **Reshaping in NumPy**\n"
      ],
      "metadata": {
        "id": "bRFENqbOGX1X"
      }
    },
    {
      "cell_type": "markdown",
      "source": [
        "####1. Create a 2D array of shape (3, 5). Flatten it into a 1D array and then reshape it back into a (5, 3) array.\n",
        "\n",
        "####2. Create a 1D array\n",
        "```\n",
        "arr = np.array([1, 2, 3, 4, 5])\n",
        "```\n",
        "####Reshape arr into (5,1), then convert to (5,) and then convert it into (1,5).\n",
        "\n",
        "\n",
        "####3. Create a 1D NumPy array with values ranging from 1 to 100. Reshape it into a (10, 10) matrix. Apply '.ravel()' and '.flatten()' on the matrix and modify the original matrix. Compare the outputs of both methods and explain the difference in memory sharing.\n",
        "\n",
        "\n",
        "####4. Generate a 5x5 NumPy matrix representing pixel intensities from an image. Use slicing to extract the central 3x3 section of the matrix and flatten it. How does reshaping impact the spatial relationships of the pixels?\n",
        "\n",
        "\n",
        "####5. Create a 3-channel RGB image as a NumPy array of shape (3, 4, 4) with random integer values between 0 and 255. Flatten the image using '.reshape()' and reshape it back to its original shape. Explain the order of pixel data stored and how reshaping affects the channel structure.\n",
        "\n"
      ],
      "metadata": {
        "id": "Gv2cCyxAdS3Q"
      }
    },
    {
      "cell_type": "code",
      "source": [
        "# Q.1\n",
        "a= np.array([[1,2,3,4,5],[4,5,6,7,8],[5,6,5,6,4]])\n",
        "print(a.flatten())\n",
        "print(a.reshape(5,3))\n",
        "print(a)"
      ],
      "metadata": {
        "colab": {
          "base_uri": "https://localhost:8080/"
        },
        "id": "ZfcHKLalE708",
        "outputId": "d1cbe275-0464-43ed-d92d-ea0fb0a35132"
      },
      "execution_count": null,
      "outputs": [
        {
          "output_type": "stream",
          "name": "stdout",
          "text": [
            "[1 2 3 4 5 4 5 6 7 8 5 6 5 6 4]\n",
            "[[1 2 3]\n",
            " [4 5 4]\n",
            " [5 6 7]\n",
            " [8 5 6]\n",
            " [5 6 4]]\n",
            "[[1 2 3 4 5]\n",
            " [4 5 6 7 8]\n",
            " [5 6 5 6 4]]\n"
          ]
        }
      ]
    },
    {
      "cell_type": "code",
      "source": [
        "# Q.2\n",
        "arr = np.array([1, 2, 3, 4, 5])\n",
        "arr1=arr.reshape(5,1)\n",
        "arr2=arr1.reshape(5,)\n",
        "arr3=arr2.reshape(1,5)\n",
        "print(arr1)\n",
        "print(arr2)\n",
        "print(arr3)"
      ],
      "metadata": {
        "id": "cAW4uFjvC_YZ",
        "colab": {
          "base_uri": "https://localhost:8080/"
        },
        "outputId": "40bb9f78-e5b2-4f52-b2cb-6443294376c2"
      },
      "execution_count": null,
      "outputs": [
        {
          "output_type": "stream",
          "name": "stdout",
          "text": [
            "[[1]\n",
            " [2]\n",
            " [3]\n",
            " [4]\n",
            " [5]]\n",
            "[1 2 3 4 5]\n",
            "[[1 2 3 4 5]]\n"
          ]
        }
      ]
    },
    {
      "cell_type": "code",
      "source": [
        "# Q.3\n",
        "n = np.arange(1,101)\n",
        "print(n)\n",
        "print(n.reshape(10,10))\n",
        "print(n.ravel()) #ravel() modifies the original array.\n",
        "print(n.flatten()) #returns copy of original array, does not modifies the original array."
      ],
      "metadata": {
        "colab": {
          "base_uri": "https://localhost:8080/"
        },
        "id": "uTTy6XABFJHj",
        "outputId": "2d31a1a6-f4ba-43cf-c98e-c761c0b85300"
      },
      "execution_count": null,
      "outputs": [
        {
          "output_type": "stream",
          "name": "stdout",
          "text": [
            "[  1   2   3   4   5   6   7   8   9  10  11  12  13  14  15  16  17  18\n",
            "  19  20  21  22  23  24  25  26  27  28  29  30  31  32  33  34  35  36\n",
            "  37  38  39  40  41  42  43  44  45  46  47  48  49  50  51  52  53  54\n",
            "  55  56  57  58  59  60  61  62  63  64  65  66  67  68  69  70  71  72\n",
            "  73  74  75  76  77  78  79  80  81  82  83  84  85  86  87  88  89  90\n",
            "  91  92  93  94  95  96  97  98  99 100]\n",
            "[[  1   2   3   4   5   6   7   8   9  10]\n",
            " [ 11  12  13  14  15  16  17  18  19  20]\n",
            " [ 21  22  23  24  25  26  27  28  29  30]\n",
            " [ 31  32  33  34  35  36  37  38  39  40]\n",
            " [ 41  42  43  44  45  46  47  48  49  50]\n",
            " [ 51  52  53  54  55  56  57  58  59  60]\n",
            " [ 61  62  63  64  65  66  67  68  69  70]\n",
            " [ 71  72  73  74  75  76  77  78  79  80]\n",
            " [ 81  82  83  84  85  86  87  88  89  90]\n",
            " [ 91  92  93  94  95  96  97  98  99 100]]\n",
            "[  1   2   3   4   5   6   7   8   9  10  11  12  13  14  15  16  17  18\n",
            "  19  20  21  22  23  24  25  26  27  28  29  30  31  32  33  34  35  36\n",
            "  37  38  39  40  41  42  43  44  45  46  47  48  49  50  51  52  53  54\n",
            "  55  56  57  58  59  60  61  62  63  64  65  66  67  68  69  70  71  72\n",
            "  73  74  75  76  77  78  79  80  81  82  83  84  85  86  87  88  89  90\n",
            "  91  92  93  94  95  96  97  98  99 100]\n",
            "[  1   2   3   4   5   6   7   8   9  10  11  12  13  14  15  16  17  18\n",
            "  19  20  21  22  23  24  25  26  27  28  29  30  31  32  33  34  35  36\n",
            "  37  38  39  40  41  42  43  44  45  46  47  48  49  50  51  52  53  54\n",
            "  55  56  57  58  59  60  61  62  63  64  65  66  67  68  69  70  71  72\n",
            "  73  74  75  76  77  78  79  80  81  82  83  84  85  86  87  88  89  90\n",
            "  91  92  93  94  95  96  97  98  99 100]\n"
          ]
        }
      ]
    },
    {
      "cell_type": "code",
      "source": [
        "# Q.4\n",
        "pixel_matrix = np.random.randint(0, 256, size=(5, 5))\n",
        "central_section = pixel_matrix[1:4, 1:4]\n",
        "flattened_section = central_section.flatten()\n",
        "print(pixel_matrix)\n",
        "print(central_section)\n",
        "print(flattened_section)"
      ],
      "metadata": {
        "id": "KNLRVp2FEyWw",
        "colab": {
          "base_uri": "https://localhost:8080/"
        },
        "outputId": "f4067843-cd9c-4338-ccea-3ceb58969175"
      },
      "execution_count": null,
      "outputs": [
        {
          "output_type": "stream",
          "name": "stdout",
          "text": [
            "[[176  43 196  70  21]\n",
            " [ 72 253 160 174 169]\n",
            " [ 82 189 198 254 247]\n",
            " [ 91 104  60 226 186]\n",
            " [206 123 190  80  50]]\n",
            "[[253 160 174]\n",
            " [189 198 254]\n",
            " [104  60 226]]\n",
            "[253 160 174 189 198 254 104  60 226]\n"
          ]
        }
      ]
    },
    {
      "cell_type": "code",
      "source": [
        "# Q.5\n",
        "image = np.random.randint(0, 256, size=(3, 4, 4), dtype=int)\n",
        "flattened_image=image.reshape(-1)\n",
        "reshape_flattened_image=flattened_image.reshape(3,4,4)\n",
        "print(image)\n",
        "print(flattened_image)\n",
        "print(reshape_flattened_image)"
      ],
      "metadata": {
        "colab": {
          "base_uri": "https://localhost:8080/"
        },
        "id": "KibisEHXH2Vs",
        "outputId": "b96f946f-30ed-426a-9ae3-9f4a65b61a8d"
      },
      "execution_count": null,
      "outputs": [
        {
          "output_type": "stream",
          "name": "stdout",
          "text": [
            "[[[190  24  50 242]\n",
            "  [177 239 116 138]\n",
            "  [240 252 230  95]\n",
            "  [ 74  67  71  19]]\n",
            "\n",
            " [[195 104 199 105]\n",
            "  [ 40   1 137 252]\n",
            "  [  9  40  22  74]\n",
            "  [ 14   8 134 232]]\n",
            "\n",
            " [[ 14 252 104   0]\n",
            "  [211  43  88 144]\n",
            "  [100 125 179  61]\n",
            "  [ 89  44   5 247]]]\n",
            "[190  24  50 242 177 239 116 138 240 252 230  95  74  67  71  19 195 104\n",
            " 199 105  40   1 137 252   9  40  22  74  14   8 134 232  14 252 104   0\n",
            " 211  43  88 144 100 125 179  61  89  44   5 247]\n",
            "[[[190  24  50 242]\n",
            "  [177 239 116 138]\n",
            "  [240 252 230  95]\n",
            "  [ 74  67  71  19]]\n",
            "\n",
            " [[195 104 199 105]\n",
            "  [ 40   1 137 252]\n",
            "  [  9  40  22  74]\n",
            "  [ 14   8 134 232]]\n",
            "\n",
            " [[ 14 252 104   0]\n",
            "  [211  43  88 144]\n",
            "  [100 125 179  61]\n",
            "  [ 89  44   5 247]]]\n"
          ]
        }
      ]
    },
    {
      "cell_type": "markdown",
      "source": [
        "# **Universal Functions**\n",
        "\n",
        "Q1) Given an array x = [1, 4, 9, 16, 25], compute the square root of each element in the array and print the result.\n",
        "\n",
        "Q2) Create an array angles =[0, $\\frac{\\pi}{2}$, $\\pi$, $\\frac{3\\pi}{2}$]\n",
        ", calculate the sine of each angle and print the result.\n",
        "\n",
        "\n",
        "\n",
        "Q3) Given two arrays a =[True, False, True] and b = [False, False, True], perform an element-wise logical AND operation and print the result.\n",
        "\n",
        "Q4) Create two arrays x = [1, 2, 3, 4] and y = [2, 2, 3, 5], perform an element-wise comparison (x < y) and print the result.\n",
        "\n",
        "Q5) Create an array x =[-2, -1, 0, 1, 2, 3, 4], compute the following element-wise operation:\n",
        "\n",
        "* If an element is negative, square it.\n",
        "* If an element is non-negative, compute its exponential.\n",
        "Print the resulting array."
      ],
      "metadata": {
        "id": "6N9gUypIpV_H"
      }
    },
    {
      "cell_type": "code",
      "source": [
        "# Q.1\n",
        "x = [1, 4, 9, 16, 25]\n",
        "print(np.sqrt(x))"
      ],
      "metadata": {
        "colab": {
          "base_uri": "https://localhost:8080/"
        },
        "id": "Y6Oui34k2WeU",
        "outputId": "ee40e3e9-3928-46c2-ef94-51426a4570f2"
      },
      "execution_count": null,
      "outputs": [
        {
          "output_type": "stream",
          "name": "stdout",
          "text": [
            "[1. 2. 3. 4. 5.]\n"
          ]
        }
      ]
    },
    {
      "cell_type": "code",
      "source": [
        "# Q.2\n",
        "array_angles = np.array([0,  np.pi/2 ,  np.pi ,  3*np.pi/2])\n",
        "print(np.sin(array_angles).astype(int))"
      ],
      "metadata": {
        "colab": {
          "base_uri": "https://localhost:8080/"
        },
        "id": "TNxEvZTQ2jPq",
        "outputId": "ac11b7f3-8f69-48a2-ed5d-9bb0911595de"
      },
      "execution_count": null,
      "outputs": [
        {
          "output_type": "stream",
          "name": "stdout",
          "text": [
            "[ 0  1  0 -1]\n"
          ]
        }
      ]
    },
    {
      "cell_type": "code",
      "source": [
        "# Q.3\n",
        "a =np.array([True, False, True])\n",
        "b = np.array([False, False, True])\n",
        "print(a&b)"
      ],
      "metadata": {
        "id": "ZtNUGmkC20R6",
        "colab": {
          "base_uri": "https://localhost:8080/"
        },
        "outputId": "88e4fb0f-7027-4ac8-b149-69efd6071587"
      },
      "execution_count": null,
      "outputs": [
        {
          "output_type": "stream",
          "name": "stdout",
          "text": [
            "[False False  True]\n"
          ]
        }
      ]
    },
    {
      "cell_type": "code",
      "source": [
        "#Q.4\n",
        "m = np.array([1, 2, 3, 4])\n",
        "n = np.array([2, 2, 3, 5])\n",
        "result = m < n\n",
        "print(result)"
      ],
      "metadata": {
        "colab": {
          "base_uri": "https://localhost:8080/"
        },
        "id": "WnlV1-Ks8vDu",
        "outputId": "db5eb834-dd6a-4f4d-aa4c-7e3931f10ea3"
      },
      "execution_count": null,
      "outputs": [
        {
          "output_type": "stream",
          "name": "stdout",
          "text": [
            "[ True False False  True]\n"
          ]
        }
      ]
    },
    {
      "cell_type": "code",
      "source": [
        "#Q.5\n",
        "x = np.array([-2, -1, 0, 1, 2, 3, 4])\n",
        "a = np.copy(x)\n",
        "a[x < 0] = x[x < 0]**2\n",
        "a[x >= 0] = np.exp(x[x >= 0])\n",
        "print(a)"
      ],
      "metadata": {
        "colab": {
          "base_uri": "https://localhost:8080/"
        },
        "id": "9gObJIzA9LE5",
        "outputId": "5556c840-a152-4f86-f1a5-402fc33061af"
      },
      "execution_count": null,
      "outputs": [
        {
          "output_type": "stream",
          "name": "stdout",
          "text": [
            "[-2 -1  1  2  7 20 54]\n"
          ]
        }
      ]
    },
    {
      "cell_type": "markdown",
      "source": [
        "# **Aggregations**\n",
        "\n",
        "####1. Generate a random array of size 10.\n",
        " calculate the following:\n",
        "- Print the array\n",
        "- The sum of all elements.\n",
        "- The mean of the array.\n",
        "- The standard deviation.\n",
        "- Find 5$*$Minimum -3$*$Maximum\n",
        "\n",
        "####2. Generate a 4x5 matrix with random integers between 1 and 50.\n",
        "- Print the matrix.\n",
        "- Compute the mean of all elements in the matrix.\n",
        "- Compute the sum of each row in the matrix.\n",
        "\n",
        "####3. Generate a random 3x3 matrix with random integers between 1 to 10\n",
        "- Find the minimum value in each column and store it in a separate list min.\n",
        "- Find the maximum value in each row and store it in a separate list max.\n",
        "- Find the value of minimum of list max - maximum of list min.\n",
        "\n",
        "####4. Given the array : data = np.array([15, 25, 35, 45, 55, 65]):\n",
        "- Find the minimum value.\n",
        "- Subtract this minimum value from all elements of the array and then calculate the mean of the resulting array.\n",
        "\n",
        "####5. Given the array : arr = np.array([3, 5, 7, 9, 11]):\n",
        "- Compute the cumulative sum of the elements.\n",
        "- Compute the cumulative product of the elements.\n",
        "\n",
        "####6. Imagine you have a dataset representing the scores of 4 students in 3 subjects:\n",
        "scores = np.array([[85, 92, 78], [88, 76, 95], [91, 89, 82], [75, 85, 88]])\n",
        "- Compute the average score for each student.\n",
        "- Compute the highest score in each subject.\n",
        "- Determine the overall average score for all students across all subjects."
      ],
      "metadata": {
        "id": "gpcuUfrjZiBa"
      }
    },
    {
      "cell_type": "code",
      "source": [
        "# Q.1\n",
        "n = np.random.randint(1,11,10)\n",
        "print(n)\n",
        "print(np.sum(n))\n",
        "print(np.mean(n))\n",
        "print(np.std(n))\n",
        "print(5*np.min(n)-3*np.max(n))"
      ],
      "metadata": {
        "colab": {
          "base_uri": "https://localhost:8080/"
        },
        "id": "WYm6KnNvQZN_",
        "outputId": "e77324c0-893b-486e-9b31-7ad787b00935"
      },
      "execution_count": null,
      "outputs": [
        {
          "output_type": "stream",
          "name": "stdout",
          "text": [
            "[ 4 10  8  7  3  6  4  3  9  9]\n",
            "63\n",
            "6.3\n",
            "2.5317977802344322\n",
            "-15\n"
          ]
        }
      ]
    },
    {
      "cell_type": "code",
      "source": [
        "# Q.2\n",
        "arr= np.random.randint"
      ],
      "metadata": {
        "id": "XzIgsBCyJAvZ"
      },
      "execution_count": null,
      "outputs": []
    },
    {
      "cell_type": "code",
      "source": [
        "# Q.3\n",
        "matrix=np.random.randint(1,11,size=(3,3))\n",
        "min_list=np.min(matrix,axis=0)\n",
        "max_list=np.max(matrix,axis=1)\n",
        "\n",
        "print(matrix)\n",
        "print(list(min_list))\n",
        "print(list(max_list))\n",
        "print(np.min(max_list)-np.max(min_list))\n"
      ],
      "metadata": {
        "colab": {
          "base_uri": "https://localhost:8080/"
        },
        "id": "qIy3pOIYJpSb",
        "outputId": "df99c702-adbf-4607-ec2e-4cf4ff42ed35"
      },
      "execution_count": null,
      "outputs": [
        {
          "output_type": "stream",
          "name": "stdout",
          "text": [
            "[[6 5 3]\n",
            " [1 3 4]\n",
            " [4 3 2]]\n",
            "[1, 3, 2]\n",
            "[6, 4, 4]\n",
            "1\n"
          ]
        }
      ]
    },
    {
      "cell_type": "code",
      "source": [
        "# Q.4\n",
        "data = np.array([15, 25, 35, 45, 55, 65])\n",
        "print(np.mean(data))\n",
        "print(np.mean(data-np.min(data)))\n"
      ],
      "metadata": {
        "colab": {
          "base_uri": "https://localhost:8080/"
        },
        "id": "juNP-qUwObQy",
        "outputId": "7c8cf721-7544-4477-b7f7-d14bdcf327f5"
      },
      "execution_count": null,
      "outputs": [
        {
          "output_type": "stream",
          "name": "stdout",
          "text": [
            "40.0\n",
            "25.0\n"
          ]
        }
      ]
    },
    {
      "cell_type": "code",
      "source": [
        "# Q.5\n",
        "arr = np.array([3, 5, 7, 9, 11])\n",
        "print(np.cumsum(arr))\n",
        "print(np.cumprod(arr))"
      ],
      "metadata": {
        "colab": {
          "base_uri": "https://localhost:8080/"
        },
        "id": "Hww4AR2YPKOZ",
        "outputId": "d9826070-66e7-4ab6-aeec-f1a9e9cef325"
      },
      "execution_count": null,
      "outputs": [
        {
          "output_type": "stream",
          "name": "stdout",
          "text": [
            "[ 3  8 15 24 35]\n",
            "[    3    15   105   945 10395]\n"
          ]
        }
      ]
    },
    {
      "cell_type": "code",
      "source": [
        "# Q.6\n",
        "scores= np.array([[85, 92, 78], [88, 76, 95], [91, 89, 82], [75, 85, 88]])\n",
        "print(np.average(scores,axis=1))\n",
        "print(np.max(scores,axis=0))\n",
        "print(np.mean(scores))"
      ],
      "metadata": {
        "colab": {
          "base_uri": "https://localhost:8080/"
        },
        "id": "B5lnQ8X4PPWs",
        "outputId": "5b2c6ac8-bada-41d6-db54-e43538bdc07b"
      },
      "execution_count": null,
      "outputs": [
        {
          "output_type": "stream",
          "name": "stdout",
          "text": [
            "[85.         86.33333333 87.33333333 82.66666667]\n",
            "[91 92 95]\n",
            "85.33333333333333\n"
          ]
        }
      ]
    },
    {
      "cell_type": "markdown",
      "source": [
        "# **Broadcasting in NumPy**\n",
        "\n",
        "\n",
        "\n",
        "####1. Given two arrays:\n",
        "\n",
        "A = np.array([[1, 2, 3], [4, 5, 6], [7, 8, 9]]) (shape: (3, 3))\n",
        "B = np.array([10, 20, 30]) (shape: (3,))\n",
        "Perform elementwise addition of A and B using broadcasting and print the result.\n",
        "\n",
        "What is the resulting shape?\n",
        "\n",
        "\n",
        "\n",
        "\n",
        "\n",
        "####2. Write a function check_broadcasting(shape1, shape2) that:\n",
        "\n",
        "Accepts two shapes as input and checks if they are broadcast-compatible.\n",
        "Use the function to test the following shape pairs:\n",
        "(3, 4) and (4,)\n",
        "(2, 1, 5) and (3, 5)\n",
        "(2, 3) and (2,)\n",
        "\n",
        "For each case:\n",
        "\n",
        "* State whether broadcasting is possible.\n",
        "\n",
        "* If possible, state the resulting shape of the operation\n",
        "\n",
        "####3. Create a 2D array A of shape (3, 5) with random integers between 1 and 10.\n",
        "Create a 1D array B of shape (5,) with random integers between 1 and 5.\n",
        "Use broadcasting to subtract B from each row of A and print the result.\n",
        "\n",
        "####4.  Create a 3D array A with shape (2, 4, 3) filled with random integers between 0 and 10.\n",
        "\n",
        "* Create an array B of shape (4, 3) containing a constant value of 5.\n",
        "* Use broadcasting to add B to each 2D array slice of A.\n",
        "* Print the result\n",
        "\n",
        "####5. : You are given a grayscale image of shape (32, 32), where each pixel value is an integer. You want to apply a scaling factor of 0.5 to all the pixel values using broadcasting.\n",
        "\n",
        "\n",
        "* Use broadcasting to scale the image by multiplying it with the scaling factor 0.5.\n",
        "* Verify that the pixel values of the image are halved by printing the scaled image.\n",
        "\n",
        "####6. Calculate the distance between an observation point and a set of code points (codes). The goal is to find the closest code to the observation by calculating the Euclidean distance between each code and the observation.\n",
        "\n",
        "* Given two arrays :\n",
        "\n",
        "codes = np.array([\n",
        "    [1.0, 2.0, 3.0],\n",
        "    [4.0, 5.0, 6.0],\n",
        "    [7.0, 8.0, 9.0],\n",
        "    [1.0, 1.0, 1.0],\n",
        "    [2.0, 3.0, 4.0]\n",
        "])\n",
        "\n",
        "\n",
        "observation = np.array([3.0, 3.0, 3.0])\n",
        "\n",
        "\n",
        "* Use broadcasting to calculate the squared Euclidean distance between the observation and each code.\n",
        "* Find and print the index of the closest code to the observation.\n",
        "* Print the distance between the observation and the closest code.\n",
        "\n",
        "**HINT : use np.argmin() to find the index of the closest code**\n",
        "\n",
        "\n"
      ],
      "metadata": {
        "id": "bXLxBAUL3cRt"
      }
    },
    {
      "cell_type": "code",
      "source": [
        "# Q.1\n",
        "A = np.array([[1, 2, 3], [4, 5, 6], [7, 8, 9]])\n",
        "B = np.array([10, 20, 30])\n",
        "C = A + B\n",
        "print(C)\n",
        "print(C.shape)"
      ],
      "metadata": {
        "colab": {
          "base_uri": "https://localhost:8080/"
        },
        "id": "m7IirzEkRJxJ",
        "outputId": "d89b9340-6a1b-4459-edd3-04c9619014cf"
      },
      "execution_count": null,
      "outputs": [
        {
          "output_type": "stream",
          "name": "stdout",
          "text": [
            "[[11 22 33]\n",
            " [14 25 36]\n",
            " [17 28 39]]\n",
            "(3, 3)\n"
          ]
        }
      ]
    },
    {
      "cell_type": "code",
      "source": [
        "# Q.3\n",
        "A = np.random.randint(2,10,(3,5))\n",
        "B = np.random.randint(2,5,5)\n",
        "print(A)\n",
        "print(B)\n",
        "C = A - B\n",
        "print(C)"
      ],
      "metadata": {
        "colab": {
          "base_uri": "https://localhost:8080/"
        },
        "id": "089qGJOIqBwY",
        "outputId": "0c7f4da2-de42-4619-eb58-e675b0d794e9"
      },
      "execution_count": null,
      "outputs": [
        {
          "output_type": "stream",
          "name": "stdout",
          "text": [
            "[[9 3 6 9 4]\n",
            " [8 6 2 5 2]\n",
            " [4 4 9 6 3]]\n",
            "[3 4 2 4 2]\n",
            "[[ 6 -1  4  5  2]\n",
            " [ 5  2  0  1  0]\n",
            " [ 1  0  7  2  1]]\n"
          ]
        }
      ]
    },
    {
      "cell_type": "code",
      "source": [
        "# Q.4\n",
        "A = np.random.randint(1,10,(2,4,3))\n",
        "B = np.full((4,3),5)\n",
        "C = A + B\n",
        "print(C)\n"
      ],
      "metadata": {
        "colab": {
          "base_uri": "https://localhost:8080/"
        },
        "id": "Xejy1Ad-rw8G",
        "outputId": "ce6e47ed-8b1c-430a-e415-3fbaa19b387c"
      },
      "execution_count": null,
      "outputs": [
        {
          "output_type": "stream",
          "name": "stdout",
          "text": [
            "[[[10  7  7]\n",
            "  [13  6  6]\n",
            "  [ 7  6 10]\n",
            "  [10  8  7]]\n",
            "\n",
            " [[ 8 12 11]\n",
            "  [11 14 12]\n",
            "  [ 6  9 10]\n",
            "  [ 8  7  6]]]\n"
          ]
        }
      ]
    },
    {
      "cell_type": "code",
      "source": [
        "# Q.5\n",
        "image = np.random.randint(0, 256, size=(32, 32))\n",
        "print(image)\n",
        "plt.imshow(image, cmap='gray')\n",
        "scaled_image = image * 0.5\n",
        "print(scaled_image)\n",
        "plt.imshow(scaled_image, cmap='gray')"
      ],
      "metadata": {
        "colab": {
          "base_uri": "https://localhost:8080/",
          "height": 690
        },
        "id": "fGJe4rj7tVmk",
        "outputId": "2f448cc4-866f-423c-e9e3-0a30d70e2b05"
      },
      "execution_count": null,
      "outputs": [
        {
          "output_type": "stream",
          "name": "stdout",
          "text": [
            "[[108 166 144 ... 229  48  53]\n",
            " [149  48 138 ... 152 254 115]\n",
            " [ 52  94 145 ... 187 239  29]\n",
            " ...\n",
            " [ 68 136  25 ... 186 137   1]\n",
            " [ 36  11 135 ... 246 252 253]\n",
            " [100  99  64 ... 238  45 131]]\n",
            "[[ 54.   83.   72.  ... 114.5  24.   26.5]\n",
            " [ 74.5  24.   69.  ...  76.  127.   57.5]\n",
            " [ 26.   47.   72.5 ...  93.5 119.5  14.5]\n",
            " ...\n",
            " [ 34.   68.   12.5 ...  93.   68.5   0.5]\n",
            " [ 18.    5.5  67.5 ... 123.  126.  126.5]\n",
            " [ 50.   49.5  32.  ... 119.   22.5  65.5]]\n"
          ]
        },
        {
          "output_type": "execute_result",
          "data": {
            "text/plain": [
              "<matplotlib.image.AxesImage at 0x7af4c1b1dcc0>"
            ]
          },
          "metadata": {},
          "execution_count": 128
        },
        {
          "output_type": "display_data",
          "data": {
            "text/plain": [
              "<Figure size 640x480 with 1 Axes>"
            ],
            "image/png": "[encoded data removed]"
          },
          "metadata": {
            "image/png": {
              "width": 417,
              "height": 413
            }
          }
        }
      ]
    },
    {
      "cell_type": "markdown",
      "source": [
        "# Concatenation\n",
        "\n",
        "1. Write a program to vertically stack arrays using `np.vstack` and print the result: (Use any three 1D arrays) <br/>\n",
        "<br/>\n",
        "2. Write a program to horizontally stack arrays using `np.hstack`. Print the result: (Use any three 1D arrays) <br/>\n",
        "<br/>\n",
        "3. Given two 2D arrays of the same row size, horizontally stack them using `np.hstack` and print the result:<br/>\n",
        "`m = np.array([[2, 4], [3, 6]])`<br/>\n",
        "`n = np.array([[4, 8], [5, 10]])`<br/>\n",
        "<br/>\n",
        "4. Using `np.vstack`, stack the following arrays vertically and print the results:<br/>\n",
        "`a = np.array([11, 12, 13])`<br/>\n",
        "`b = np.array([[14, 15, 16], [17, 18, 19]])`<br/>\n",
        "<br/>\n",
        "5. Concatenate the following 2D arrays along different axes using `np.concatenate`. Demonstrate how to concatenate them along axis 0 and axis 1.<br/>\n",
        "`x = np.array([[1, 2], [3, 4]])`<br/>\n",
        "`y = np.array([[5, 6], [7, 8]])`<br/>\n",
        "`z = np.array([[9, 10], [11, 12]])`<br/>"
      ],
      "metadata": {
        "id": "ehP-oE00BN3l"
      }
    },
    {
      "cell_type": "code",
      "source": [
        "# Q.1\n",
        "arr1= np.array([1,2,3])\n",
        "arr2= np.array([4,5,6])\n",
        "arr3= np.array([7,8,9])\n",
        "print(np.vstack([arr1,arr2,arr3]))"
      ],
      "metadata": {
        "colab": {
          "base_uri": "https://localhost:8080/"
        },
        "id": "OzdAauXou8R5",
        "outputId": "fb2229aa-7d25-4dfb-edc5-aa0a3a9cd097"
      },
      "execution_count": null,
      "outputs": [
        {
          "output_type": "stream",
          "name": "stdout",
          "text": [
            "[[1 2 3]\n",
            " [4 5 6]\n",
            " [7 8 9]]\n"
          ]
        }
      ]
    },
    {
      "cell_type": "code",
      "source": [
        "# Q.2\n",
        "arr1= np.array([1,2,3])\n",
        "arr2= np.array([4,5,6])\n",
        "arr3= np.array([7,8,9])\n",
        "print(np.hstack([arr1,arr2,arr3]))"
      ],
      "metadata": {
        "colab": {
          "base_uri": "https://localhost:8080/"
        },
        "id": "_hQEhZZjvGwQ",
        "outputId": "95c8a72b-d600-48e4-f0ad-dddc9afa311c"
      },
      "execution_count": null,
      "outputs": [
        {
          "output_type": "stream",
          "name": "stdout",
          "text": [
            "[1 2 3 4 5 6 7 8 9]\n"
          ]
        }
      ]
    },
    {
      "cell_type": "code",
      "source": [
        "# Q.3\n",
        "m = np.array([[2, 4], [3, 6]])\n",
        "n = np.array([[4, 8], [5, 10]])\n",
        "print(np.hstack((m,n)))"
      ],
      "metadata": {
        "colab": {
          "base_uri": "https://localhost:8080/"
        },
        "id": "JatmeXFvvRY2",
        "outputId": "1a961554-ab94-481a-c4c0-95b5cda263a4"
      },
      "execution_count": null,
      "outputs": [
        {
          "output_type": "stream",
          "name": "stdout",
          "text": [
            "[[ 2  4  4  8]\n",
            " [ 3  6  5 10]]\n"
          ]
        }
      ]
    },
    {
      "cell_type": "code",
      "source": [
        "# Q.4\n",
        "a = np.array([11, 12, 13])\n",
        "b = np.array([[14, 15, 16], [17, 18, 19]])\n",
        "print(np.vstack((a,b)))"
      ],
      "metadata": {
        "colab": {
          "base_uri": "https://localhost:8080/"
        },
        "id": "YqQYaEfsvvt1",
        "outputId": "e959b5e3-e766-4988-9b91-428dad9420d1"
      },
      "execution_count": null,
      "outputs": [
        {
          "output_type": "stream",
          "name": "stdout",
          "text": [
            "[[11 12 13]\n",
            " [14 15 16]\n",
            " [17 18 19]]\n"
          ]
        }
      ]
    },
    {
      "cell_type": "code",
      "source": [
        "# Q.5\n",
        "x = np.array([[1, 2], [3, 4]])\n",
        "y = np.array([[5, 6], [7, 8]])\n",
        "z = np.array([[9, 10], [11, 12]])\n",
        "d = np.concatenate([x,y,z],axis = 1)\n",
        "print(d)\n",
        "e = np.concatenate([x,y,z],axis = 0)\n",
        "print(e)"
      ],
      "metadata": {
        "id": "1UntDbBSv9bo",
        "colab": {
          "base_uri": "https://localhost:8080/"
        },
        "outputId": "d71729e3-6951-4a1c-ee6c-8398db47f38e"
      },
      "execution_count": null,
      "outputs": [
        {
          "output_type": "stream",
          "name": "stdout",
          "text": [
            "[[ 1  2  5  6  9 10]\n",
            " [ 3  4  7  8 11 12]]\n",
            "[[ 1  2]\n",
            " [ 3  4]\n",
            " [ 5  6]\n",
            " [ 7  8]\n",
            " [ 9 10]\n",
            " [11 12]]\n"
          ]
        }
      ]
    },
    {
      "cell_type": "markdown",
      "source": [
        "# Boolean Masking\n",
        "\n",
        "1. Use Boolean masking to filter elements from a 1D array:\n",
        "Write a program to create a 1D array and use Boolean masking to filter out all elements greater than 5.<br/>\n",
        "\n",
        "2. Apply a Boolean mask to a 2D array:\n",
        "Given the 2D array below, create a Boolean mask to select all elements greater than 10 and print the masked elements.<br/>\n",
        "`arr = np.array([[5, 12, 18], [7, 1, 3], [11, 6, 14]])`\n",
        " <br/>\n",
        "3. Create a Boolean mask using a condition on an array:\n",
        "Create a 1D array of integers from 0 to 10. Use a Boolean mask to filter out all even numbers and print the result.<br/>\n",
        "Example:\n",
        "`arr = np.arange(11)`\n",
        "<br/>\n",
        "4. Combine Boolean masks using logical operations:\n",
        "Given the array below, create and combine two Boolean masks:<br/>\n",
        "One mask selects elements greater than 5.\n",
        "The other mask selects elements divisible by 3.\n",
        "Combine the masks using logical AND and print the result.\n",
        "Example:\n",
        "`arr = np.array([1, 3, 6, 9, 12, 15])`\n",
        "<br/>\n",
        "5. Mask elements in a 2D array and replace them:\n",
        "Write a program to replace all elements less than 5 in the 2D array below with 0 using Boolean masking.\n",
        "<br/>\n",
        "6.  Count elements satisfying a condition using Boolean masks:\n",
        "Write a program to count how many elements in the array below are greater than 5.\n",
        "<br/>"
      ],
      "metadata": {
        "id": "NCs1VlmHiFli"
      }
    },
    {
      "cell_type": "code",
      "source": [
        "# Q.1\n",
        "arr=np.array([1,2,3,4,5,6,7,8,9])\n",
        "arr_1=arr[arr>5]\n",
        "print(arr)\n",
        "print(arr_1)"
      ],
      "metadata": {
        "id": "-UBMIhj91YAI",
        "outputId": "823f26ab-d9c9-4565-f6e2-e01fed931ed5",
        "colab": {
          "base_uri": "https://localhost:8080/"
        }
      },
      "execution_count": null,
      "outputs": [
        {
          "output_type": "stream",
          "name": "stdout",
          "text": [
            "[1 2 3 4 5 6 7 8 9]\n",
            "[6 7 8 9]\n"
          ]
        }
      ]
    },
    {
      "cell_type": "code",
      "source": [
        "# Q.2\n",
        "arr = np.array([[5, 12, 18], [7, 1, 3], [11, 6, 14]])\n",
        "brr = arr>10\n",
        "print(arr[brr])"
      ],
      "metadata": {
        "colab": {
          "base_uri": "https://localhost:8080/"
        },
        "id": "yOU5l3MQzHFa",
        "outputId": "dd565b00-ff74-48d0-8650-df2afd1e16d0"
      },
      "execution_count": null,
      "outputs": [
        {
          "output_type": "stream",
          "name": "stdout",
          "text": [
            "[12 18 11 14]\n"
          ]
        }
      ]
    },
    {
      "cell_type": "code",
      "source": [
        "# Q.3\n",
        "a = np.arange(0,11)\n",
        "print(a)\n",
        "b = (a%2==0)\n",
        "print(a[b])"
      ],
      "metadata": {
        "id": "LOXCiZPjznxi",
        "colab": {
          "base_uri": "https://localhost:8080/"
        },
        "outputId": "7e372d68-4ced-46a3-c84b-f372dea20e6a"
      },
      "execution_count": null,
      "outputs": [
        {
          "output_type": "stream",
          "name": "stdout",
          "text": [
            "[ 0  1  2  3  4  5  6  7  8  9 10]\n",
            "[ 0  2  4  6  8 10]\n"
          ]
        }
      ]
    },
    {
      "cell_type": "code",
      "source": [
        "# Q.4\n",
        "arr = np.array([1, 3, 6, 9, 12, 15])\n",
        "brr= arr>5\n",
        "crr = arr%3==0\n",
        "print(arr[brr & crr])"
      ],
      "metadata": {
        "id": "JNIGsE_E002q",
        "colab": {
          "base_uri": "https://localhost:8080/"
        },
        "outputId": "08b45443-b6eb-4f13-9cbb-0dfbed2fe10c"
      },
      "execution_count": null,
      "outputs": [
        {
          "output_type": "stream",
          "name": "stdout",
          "text": [
            "[ 6  9 12 15]\n"
          ]
        }
      ]
    },
    {
      "cell_type": "code",
      "source": [
        "# Q.5\n",
        "a = np.random.randint(1,16,(4,3))\n",
        "print(a)\n",
        "b = a<5\n",
        "a[b]=0\n",
        "print(a)"
      ],
      "metadata": {
        "colab": {
          "base_uri": "https://localhost:8080/"
        },
        "id": "YjpMlBBx5tNc",
        "outputId": "705785e7-3afc-4e8b-fca1-75d57466f0b5"
      },
      "execution_count": null,
      "outputs": [
        {
          "output_type": "stream",
          "name": "stdout",
          "text": [
            "[[ 3  9 10]\n",
            " [ 5  9 13]\n",
            " [ 7  6  8]\n",
            " [ 3  3  3]]\n",
            "[[ 0  9 10]\n",
            " [ 5  9 13]\n",
            " [ 7  6  8]\n",
            " [ 0  0  0]]\n"
          ]
        }
      ]
    },
    {
      "cell_type": "code",
      "source": [
        "# Q.6\n",
        "arr = np.array([1,5,6,3,4,45,34,3,534,35,434,98])\n",
        "brr = arr>5\n",
        "print(arr)\n",
        "print(np.sum(brr))"
      ],
      "metadata": {
        "colab": {
          "base_uri": "https://localhost:8080/"
        },
        "id": "AXn21cdI1tX_",
        "outputId": "316dd862-9e26-4412-8f37-ee21ddad3332"
      },
      "execution_count": null,
      "outputs": [
        {
          "output_type": "stream",
          "name": "stdout",
          "text": [
            "[  1   5   6   3   4  45  34   3 534  35 434  98]\n",
            "7\n"
          ]
        }
      ]
    }
  ]
}